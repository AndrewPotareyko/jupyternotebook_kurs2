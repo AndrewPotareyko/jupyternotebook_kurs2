{
  "metadata": {
    "kernelspec": {
      "name": "python",
      "display_name": "Python (Pyodide)",
      "language": "python"
    },
    "language_info": {
      "codemirror_mode": {
        "name": "python",
        "version": 3
      },
      "file_extension": ".py",
      "mimetype": "text/x-python",
      "name": "python",
      "nbconvert_exporter": "python",
      "pygments_lexer": "ipython3",
      "version": "3.8"
    }
  },
  "nbformat_minor": 4,
  "nbformat": 4,
  "cells": [
    {
      "cell_type": "markdown",
      "source": "# Data Science Tools and Ecosystem\n",
      "metadata": {}
    },
    {
      "cell_type": "markdown",
      "source": "У цьому нотатнику підсумовані інструменти та екосистема Data Science.",
      "metadata": {}
    },
    {
      "cell_type": "markdown",
      "source": "**Цілі:**\n- Перелік популярних мов для Data Science\n- Перелік поширених бібліотек\n- Перелік інструментів Data Science",
      "metadata": {}
    },
    {
      "cell_type": "markdown",
      "source": "Деякі з популярних мов, які використовують Data Scientists, це:\n1. Python\n2. R\n3. Julia",
      "metadata": {}
    },
    {
      "cell_type": "markdown",
      "source": "Деякі з поширених бібліотек, які використовують Data Scientists, включають:\n1. Pandas\n2. NumPy ",
      "metadata": {}
    },
    {
      "cell_type": "markdown",
      "source": "| Інструменти Data Science |\n| -------------------------|\n|Jupyter Notebooks         |\n|RStudio                   |\n|Apache Hadoop             |\n",
      "metadata": {}
    },
    {
      "cell_type": "markdown",
      "source": "### Нижче наведено кілька прикладів оцінки арифметичних виразів у Python\n5 * 6 = 30",
      "metadata": {}
    },
    {
      "cell_type": "code",
      "source": "# Це простий арифметичний вираз для множення, а потім додавання цілих чисел\n(3*4)+5",
      "metadata": {
        "trusted": true
      },
      "outputs": [
        {
          "execution_count": 13,
          "output_type": "execute_result",
          "data": {
            "text/plain": "17"
          },
          "metadata": {}
        }
      ],
      "execution_count": 13
    },
    {
      "cell_type": "code",
      "source": "200 / 60 \n# Це перетворить 200 хвилин на години, ділячи на 60\n",
      "metadata": {
        "trusted": true
      },
      "outputs": [
        {
          "execution_count": 14,
          "output_type": "execute_result",
          "data": {
            "text/plain": "3.3333333333333335"
          },
          "metadata": {}
        }
      ],
      "execution_count": 14
    },
    {
      "cell_type": "markdown",
      "source": "## Автор\nАндрій Потарейко",
      "metadata": {}
    },
    {
      "cell_type": "code",
      "source": "",
      "metadata": {
        "trusted": true
      },
      "outputs": [],
      "execution_count": null
    }
  ]
}